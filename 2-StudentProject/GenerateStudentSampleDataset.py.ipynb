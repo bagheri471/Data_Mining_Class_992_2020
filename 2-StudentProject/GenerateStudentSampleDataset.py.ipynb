{
 "cells": [
  {
   "cell_type": "code",
   "execution_count": 1,
   "metadata": {},
   "outputs": [
    {
     "name": "stdout",
     "output_type": "stream",
     "text": [
      "Dataset size:  (100, 11)\n",
      "ok\n"
     ]
    }
   ],
   "source": [
    "# In the name of GOD\n",
    "# Generate Student (or any) Sample Dataset \n",
    "# 1400/1/20\n",
    "# by Esmaeil Bagheri\n",
    "\n",
    "import numpy as np\n",
    "import pandas as pd\n",
    "\n",
    "entry_term=[]\n",
    "home_address=[]\n",
    "home_street=[]\n",
    "#work_address=[]\n",
    "#job=[]\n",
    "age=[]  # or birth_date=[]  , age=now-birthdate\n",
    "gender=[] #female=0 , male=1\n",
    "marital_status=[] #single=0 , married=1\n",
    "course=[] #reshte tahsili konooni\n",
    "#pre_course=[] #reshte tahsili ghabli\n",
    "level=[] #maghta\n",
    "#pre_level=[] #maghta ghabli\n",
    "status=[] #Educational status\n",
    "pre_avg=[] #Previous Average\n",
    "avg=[]\n",
    "\n",
    "entry_term_names=['971','972','981','982','991']\n",
    "city_names=['Shahreza','Dehaghan','Esfahan','Semirom','Boroojen']\n",
    "course_names=['modiriat','hesabdari','mekanic','computer','omran']\n",
    "level_names=['Kardani','Karshenasi Peyvasteh','Karshenasi Napeyvasteh','Arshad','Doctora']\n",
    "status_names=['Dar Hale Tahsil','Morakhasi','Adame Morajeh','Fareghotahsil/Enseraf']\n",
    "\n",
    "n_st=100000\n",
    "for n in range(n_st):\n",
    "    entry_term.append(np.random.choice(entry_term_names, p=[0.25,0.1,0.25,0.1,0.3]))\n",
    "    home_address.append(np.random.choice(city_names, p=[0.5,0.2,0.25,0.03,0.02]))  #,size=(1,3))    #`p` is the probability of choosing each element\n",
    "    home_street.append(np.random.randint(1, 10))\n",
    "    age.append(np.random.randint(18, 40)) # int\n",
    "    gender.append(np.random.choice([0,1]))\n",
    "    marital_status.append(np.random.choice([0,1]))\n",
    "    course.append(np.random.choice(course_names, p=[0.2,0.35,0.1,0.25,0.1]))\n",
    "    level.append(np.random.choice(level_names,p=[0.3,0.25,0.2,0.2,0.05]))\n",
    "    status.append(np.random.choice(status_names,p=[0.7,0.05,0.2,0.05]))\n",
    "    pre_avg.append(round(np.random.uniform(12, 20),2))  # float\n",
    "    avg.append(round(np.random.uniform(12, 20),2))  # float\n",
    "\n",
    "variables=[entry_term,home_address,home_street,age,gender,marital_status,course,level,status,pre_avg,avg]\n",
    "df=pd.DataFrame(variables).transpose()\n",
    "df.columns=[\"EntryTerm\",\"HomeAddress\",\"HomeStreet\",\"Age\",\"Gender\",\"MaritalStatus\",\"Course\",\"Level\",\"Status\",\"PreviousAverage\",\"Average\"]\n",
    "\n",
    "# df.to_csv ('StudentSampleDataset.csv', header=True)   #Export to .csv\n",
    "df.to_excel ('StudentSampleDataset.xls', header=True)   #Export to .xls\n",
    "print('Dataset size: ',df.shape)\n",
    "\n",
    "# students=pd.read_csv('StudentSampleDataset.csv')\n",
    "students=pd.read_excel('StudentSampleDataset.xls')\n",
    "students.head() \n",
    "#students.shape\n",
    "print('ok')"
   ]
  },
  {
   "cell_type": "code",
   "execution_count": null,
   "metadata": {},
   "outputs": [],
   "source": []
  }
 ],
 "metadata": {
  "kernelspec": {
   "display_name": "Python 3",
   "language": "python",
   "name": "python3"
  },
  "language_info": {
   "codemirror_mode": {
    "name": "ipython",
    "version": 3
   },
   "file_extension": ".py",
   "mimetype": "text/x-python",
   "name": "python",
   "nbconvert_exporter": "python",
   "pygments_lexer": "ipython3",
   "version": "3.8.5"
  }
 },
 "nbformat": 4,
 "nbformat_minor": 4
}
